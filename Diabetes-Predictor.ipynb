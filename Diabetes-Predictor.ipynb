{
 "cells": [
  {
   "cell_type": "code",
   "execution_count": 811,
   "metadata": {},
   "outputs": [],
   "source": [
    "import pandas as pd\n",
    "import numpy as np\n",
    "from matplotlib import pyplot as plt\n",
    "from sklearn.neighbors import KNeighborsClassifier\n",
    "import missingno as msno\n",
    "from sklearn.preprocessing import StandardScaler\n",
    "import seaborn as sns"
   ]
  },
  {
   "cell_type": "code",
   "execution_count": 812,
   "metadata": {},
   "outputs": [],
   "source": [
    "X_train = pd.read_csv(\"C:/Users/vikas/Downloads/Training Data/Diabetes_XTrain.csv\")\n",
    "Y_train = pd.read_csv(\"C:/Users/vikas/Downloads/Training Data/Diabetes_YTrain.csv\")\n",
    "X_test = pd.read_csv(\"C:/Users/vikas/Downloads/Diabetes_Xtest.csv\")"
   ]
  },
  {
   "cell_type": "code",
   "execution_count": 813,
   "metadata": {},
   "outputs": [],
   "source": [
    "# X_train.describe().T"
   ]
  },
  {
   "cell_type": "code",
   "execution_count": 814,
   "metadata": {},
   "outputs": [],
   "source": [
    "# X_test.describe().T"
   ]
  },
  {
   "cell_type": "code",
   "execution_count": 815,
   "metadata": {},
   "outputs": [],
   "source": [
    "# print(X_train['Glucose'].median())\n",
    "# print(X_test['Glucose'].median())"
   ]
  },
  {
   "cell_type": "code",
   "execution_count": 816,
   "metadata": {},
   "outputs": [],
   "source": [
    "# print(X_train['SkinThickness'].median())\n",
    "# print(X_test['SkinThickness'].median())"
   ]
  },
  {
   "cell_type": "code",
   "execution_count": 817,
   "metadata": {},
   "outputs": [],
   "source": [
    "# print(X_train['BloodPressure'].median())\n",
    "# print(X_test['BloodPressure'].median())"
   ]
  },
  {
   "cell_type": "code",
   "execution_count": 818,
   "metadata": {},
   "outputs": [
    {
     "name": "stdout",
     "output_type": "stream",
     "text": [
      "76.16666666666667\n",
      "90.69791666666667\n"
     ]
    }
   ],
   "source": [
    "print(X_train['Insulin'].mean())\n",
    "print(X_test['Insulin'].mean())"
   ]
  },
  {
   "cell_type": "code",
   "execution_count": 819,
   "metadata": {},
   "outputs": [],
   "source": [
    "X_train[['Glucose' , 'BloodPressure' , 'SkinThickness' , 'Insulin' ,'BMI' ]]=X_train[['Glucose' , 'BloodPressure' , 'SkinThickness' , 'Insulin' ,'BMI' ]].replace(0 , np.NaN)"
   ]
  },
  {
   "cell_type": "code",
   "execution_count": 820,
   "metadata": {},
   "outputs": [],
   "source": [
    "X_test[['Glucose' , 'BloodPressure' , 'SkinThickness' , 'Insulin' ,'BMI' ]]=X_test[['Glucose' , 'BloodPressure' , 'SkinThickness' , 'Insulin' ,'BMI' ]].replace(0 , np.NaN)"
   ]
  },
  {
   "cell_type": "code",
   "execution_count": 821,
   "metadata": {},
   "outputs": [],
   "source": [
    "# print(X_train['Glucose'].median())\n",
    "# print(X_test['Glucose'].median())"
   ]
  },
  {
   "cell_type": "code",
   "execution_count": 822,
   "metadata": {},
   "outputs": [],
   "source": [
    "# print(X_train.isnull().sum())"
   ]
  },
  {
   "cell_type": "code",
   "execution_count": 823,
   "metadata": {},
   "outputs": [],
   "source": [
    "# print(X_test.isna().sum())"
   ]
  },
  {
   "cell_type": "code",
   "execution_count": 824,
   "metadata": {},
   "outputs": [],
   "source": [
    "# columns_to_drop = ['DiabetesPedigreeFunction']\n",
    "# X_train = X_train.drop(columns_to_drop , axis= 1)\n",
    "# X_test = X_test.drop(columns_to_drop , axis= 1)"
   ]
  },
  {
   "cell_type": "code",
   "execution_count": 825,
   "metadata": {},
   "outputs": [],
   "source": [
    "X_train['Glucose'].fillna(119 , inplace =True)\n",
    "X_train['Insulin'].fillna(84 , inplace =True)\n",
    "X_train['SkinThickness'].fillna(X_train['SkinThickness'].median() , inplace = True)\n",
    "X_train['BloodPressure'].fillna(X_train['BloodPressure'].median() , inplace =True)\n",
    "X_train['BMI'].fillna(31 , inplace =True)"
   ]
  },
  {
   "cell_type": "code",
   "execution_count": 826,
   "metadata": {},
   "outputs": [],
   "source": [
    "X_test['Glucose'].fillna(119 , inplace =True)\n",
    "X_test['Insulin'].fillna(84 , inplace =True)\n",
    "X_test['SkinThickness'].fillna(X_train['SkinThickness'].median() , inplace = True)\n",
    "X_test['BloodPressure'].fillna(X_train['BloodPressure'].median() , inplace =True)\n",
    "X_test['BMI'].fillna(31, inplace =True)"
   ]
  },
  {
   "cell_type": "code",
   "execution_count": 827,
   "metadata": {},
   "outputs": [],
   "source": [
    "# X_train"
   ]
  },
  {
   "cell_type": "code",
   "execution_count": 828,
   "metadata": {},
   "outputs": [],
   "source": [
    "# X_test"
   ]
  },
  {
   "cell_type": "code",
   "execution_count": 829,
   "metadata": {},
   "outputs": [],
   "source": [
    "X_test['Pregnancies']  = (X_test['Pregnancies'] - X_train['Pregnancies'].mean()) / X_train['Pregnancies'].std()\n",
    "X_test['DiabetesPedigreeFunction']  = (X_test['DiabetesPedigreeFunction'] - X_train['DiabetesPedigreeFunction'].mean()) / X_train['DiabetesPedigreeFunction'].std()\n",
    "X_test['Glucose']  = (X_test['Glucose'] - X_train['Glucose'].mean()) / X_train['Glucose'].std()\n",
    "X_test['Insulin'] = (X_test['Insulin'] - X_train['Insulin'].mean()) / X_train['Insulin'].std()\n",
    "X_test['BloodPressure']  = (X_test['BloodPressure'] - X_train['BloodPressure'].mean()) / X_train['BloodPressure'].std()\n",
    "X_test['SkinThickness']  = (X_test['SkinThickness'] - X_train['SkinThickness'].mean()) / X_train['SkinThickness'].std()\n",
    "X_test['BMI']  = (X_test['BMI'] - X_train['BMI'].mean()) / X_train['BMI'].std()\n",
    "X_test['Age']  = (X_test['Age'] - X_train['Age'].mean()) / X_train['Age'].std()\n",
    "# # sc_X = StandardScaler()\n",
    "# # X_test =  pd.DataFrame(sc_X.fit_transform(X_train),\n",
    "# #         columns=['Pregnancies', 'Glucose', 'BloodPressure', 'SkinThickness',\n",
    "# #        'BMI', 'Age'])"
   ]
  },
  {
   "cell_type": "code",
   "execution_count": 830,
   "metadata": {},
   "outputs": [],
   "source": [
    "\n",
    "# # sc_X = StandardScaler()\n",
    "# # X_train =  pd.DataFrame(sc_X.fit_transform(X_train),\n",
    "# #         columns=['Pregnancies', 'Glucose', 'BloodPressure', 'SkinThickness',\n",
    "# #        'BMI', 'Age'])\n",
    "X_train['Pregnancies']  = (X_train['Pregnancies'] - X_train['Pregnancies'].mean()) / X_train['Pregnancies'].std()\n",
    "X_train['DiabetesPedigreeFunction']  = (X_train['DiabetesPedigreeFunction'] - X_train['DiabetesPedigreeFunction'].mean()) / X_train['DiabetesPedigreeFunction'].std()\n",
    "X_train['Glucose']  = (X_train['Glucose'] - X_train['Glucose'].mean()) / X_train['Glucose'].std()\n",
    "X_train['Insulin'] = (X_train['Insulin'] - X_train['Insulin'].mean()) / X_train['Insulin'].std()\n",
    "X_train['BloodPressure']  = (X_train['BloodPressure'] - X_train['BloodPressure'].mean()) / X_train['BloodPressure'].std()\n",
    "X_train['SkinThickness']  = (X_train['SkinThickness'] - X_train['SkinThickness'].mean()) / X_train['SkinThickness'].std()\n",
    "X_train['BMI']  = (X_train['BMI'] - X_train['BMI'].mean()) / X_train['BMI'].std()\n",
    "X_train['Age']  = (X_train['Age'] - X_train['Age'].mean()) / X_train['Age'].std()"
   ]
  },
  {
   "cell_type": "code",
   "execution_count": 831,
   "metadata": {},
   "outputs": [],
   "source": [
    "# sc_X = StandardScaler()\n",
    "# X_test =  pd.DataFrame(sc_X.fit_transform(X_train),\n",
    "#         columns=['Pregnancies', 'Glucose', 'BloodPressure', 'SkinThickness',\n",
    "#        'BMI', 'Age'])\n"
   ]
  },
  {
   "cell_type": "code",
   "execution_count": 832,
   "metadata": {},
   "outputs": [],
   "source": [
    "X_train = X_train.values\n",
    "X_test = X_test.values\n",
    "Y_train = Y_train.values"
   ]
  },
  {
   "cell_type": "code",
   "execution_count": null,
   "metadata": {},
   "outputs": [],
   "source": []
  },
  {
   "cell_type": "code",
   "execution_count": 833,
   "metadata": {},
   "outputs": [],
   "source": [
    "def euclidean(a1 ,a2):\n",
    "    return np.sqrt(np.sum((a1-a2)**2))    \n"
   ]
  },
  {
   "cell_type": "code",
   "execution_count": 834,
   "metadata": {},
   "outputs": [
    {
     "name": "stdout",
     "output_type": "stream",
     "text": [
      "4\n"
     ]
    }
   ],
   "source": [
    "def manhattan(a1 , a2):\n",
    "    return np.sum(abs(a1-a2))\n",
    "print(manhattan(np.array([1,1,3]),np.array([1,2,0])))"
   ]
  },
  {
   "cell_type": "code",
   "execution_count": 835,
   "metadata": {},
   "outputs": [],
   "source": [
    "def KNN(X_train , Y_train ,test_point , k=6):\n",
    "    distances = []\n",
    "    \n",
    "    # calculating the distances\n",
    "    for point , label in zip(X_train , Y_train):\n",
    "        distance = euclidean(test_point , point)\n",
    "        distances.append((distance ,label))\n",
    "        \n",
    "    # Sorting on the basis of distances \n",
    "    distances = sorted(distances ,key = lambda x:x[0])\n",
    "    \n",
    "    # selecting the nearest neighbours\n",
    "    K_Nearest_Neigbors = np.array(distances[:k])\n",
    "    freq = np.unique(K_Nearest_Neigbors[:,1] , return_counts=True)\n",
    "    labels,count = freq\n",
    "    \n",
    "    # majority voting\n",
    "    verdict = labels[count.argmax()]\n",
    "    return verdict"
   ]
  },
  {
   "cell_type": "code",
   "execution_count": 836,
   "metadata": {},
   "outputs": [],
   "source": [
    "def get_predictions(X_train , Y_train , X_test , k=6):\n",
    "    predictions=[]\n",
    "    for test_point in X_test:\n",
    "        pred=KNN(X_train , Y_train ,test_point ,k)\n",
    "        predictions.append(pred)\n",
    "    \n",
    "    return predictions"
   ]
  },
  {
   "cell_type": "code",
   "execution_count": 837,
   "metadata": {},
   "outputs": [],
   "source": [
    "prediction = get_predictions(X_train , Y_train , X_test)"
   ]
  },
  {
   "cell_type": "code",
   "execution_count": 838,
   "metadata": {},
   "outputs": [],
   "source": [
    "df = pd.DataFrame(prediction) "
   ]
  },
  {
   "cell_type": "code",
   "execution_count": 839,
   "metadata": {},
   "outputs": [],
   "source": [
    "df.columns=['Outcome']"
   ]
  },
  {
   "cell_type": "code",
   "execution_count": 840,
   "metadata": {},
   "outputs": [],
   "source": [
    "df.to_csv('sol4.csv' , index=False)"
   ]
  },
  {
   "cell_type": "code",
   "execution_count": null,
   "metadata": {},
   "outputs": [],
   "source": []
  },
  {
   "cell_type": "code",
   "execution_count": null,
   "metadata": {},
   "outputs": [],
   "source": []
  },
  {
   "cell_type": "code",
   "execution_count": null,
   "metadata": {},
   "outputs": [],
   "source": []
  },
  {
   "cell_type": "code",
   "execution_count": null,
   "metadata": {},
   "outputs": [],
   "source": []
  },
  {
   "cell_type": "code",
   "execution_count": null,
   "metadata": {},
   "outputs": [],
   "source": []
  },
  {
   "cell_type": "code",
   "execution_count": null,
   "metadata": {},
   "outputs": [],
   "source": []
  },
  {
   "cell_type": "code",
   "execution_count": null,
   "metadata": {},
   "outputs": [],
   "source": []
  },
  {
   "cell_type": "code",
   "execution_count": null,
   "metadata": {},
   "outputs": [],
   "source": []
  },
  {
   "cell_type": "code",
   "execution_count": null,
   "metadata": {},
   "outputs": [],
   "source": []
  },
  {
   "cell_type": "code",
   "execution_count": null,
   "metadata": {},
   "outputs": [],
   "source": []
  },
  {
   "cell_type": "code",
   "execution_count": null,
   "metadata": {},
   "outputs": [],
   "source": []
  },
  {
   "cell_type": "code",
   "execution_count": null,
   "metadata": {},
   "outputs": [],
   "source": []
  },
  {
   "cell_type": "code",
   "execution_count": null,
   "metadata": {},
   "outputs": [],
   "source": []
  },
  {
   "cell_type": "code",
   "execution_count": null,
   "metadata": {},
   "outputs": [],
   "source": []
  },
  {
   "cell_type": "code",
   "execution_count": null,
   "metadata": {},
   "outputs": [],
   "source": []
  },
  {
   "cell_type": "code",
   "execution_count": null,
   "metadata": {},
   "outputs": [],
   "source": []
  },
  {
   "cell_type": "code",
   "execution_count": null,
   "metadata": {},
   "outputs": [],
   "source": []
  }
 ],
 "metadata": {
  "kernelspec": {
   "display_name": "Python 3",
   "language": "python",
   "name": "python3"
  },
  "language_info": {
   "codemirror_mode": {
    "name": "ipython",
    "version": 3
   },
   "file_extension": ".py",
   "mimetype": "text/x-python",
   "name": "python",
   "nbconvert_exporter": "python",
   "pygments_lexer": "ipython3",
   "version": "3.6.6"
  }
 },
 "nbformat": 4,
 "nbformat_minor": 2
}
